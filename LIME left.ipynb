{
 "cells": [
  {
   "cell_type": "code",
   "execution_count": 2,
   "id": "3b10744f-0b62-4930-9ff4-997a5b01ff01",
   "metadata": {
    "execution": {
     "iopub.execute_input": "2023-01-12T08:48:07.149269Z",
     "iopub.status.busy": "2023-01-12T08:48:07.148654Z",
     "iopub.status.idle": "2023-01-12T08:48:07.262184Z",
     "shell.execute_reply": "2023-01-12T08:48:07.260122Z",
     "shell.execute_reply.started": "2023-01-12T08:48:07.149228Z"
    }
   },
   "outputs": [
    {
     "ename": "SyntaxError",
     "evalue": "invalid syntax (1560769862.py, line 1)",
     "output_type": "error",
     "traceback": [
      "\u001b[0;36m  Input \u001b[0;32mIn [2]\u001b[0;36m\u001b[0m\n\u001b[0;31m    pip install lime\u001b[0m\n\u001b[0m        ^\u001b[0m\n\u001b[0;31mSyntaxError\u001b[0m\u001b[0;31m:\u001b[0m invalid syntax\n"
     ]
    }
   ],
   "source": [
    "pip install lime "
   ]
  },
  {
   "cell_type": "code",
   "execution_count": 3,
   "id": "b59aeb1f-b269-417e-83da-88329f309840",
   "metadata": {
    "execution": {
     "iopub.execute_input": "2023-01-12T08:48:28.334794Z",
     "iopub.status.busy": "2023-01-12T08:48:28.334332Z",
     "iopub.status.idle": "2023-01-12T08:48:37.481787Z",
     "shell.execute_reply": "2023-01-12T08:48:37.478366Z",
     "shell.execute_reply.started": "2023-01-12T08:48:28.334765Z"
    }
   },
   "outputs": [
    {
     "ename": "FileNotFoundError",
     "evalue": "[Errno 2] No such file or directory: '/Volumes/Macintosh HD/Users/keeswagemans/Desktop/Thesis/iCub dataset/X_test_left.pkl'",
     "output_type": "error",
     "traceback": [
      "\u001b[0;31m---------------------------------------------------------------------------\u001b[0m",
      "\u001b[0;31mFileNotFoundError\u001b[0m                         Traceback (most recent call last)",
      "Input \u001b[0;32mIn [3]\u001b[0m, in \u001b[0;36m<cell line: 11>\u001b[0;34m()\u001b[0m\n\u001b[1;32m      7\u001b[0m \u001b[38;5;28;01mimport\u001b[39;00m \u001b[38;5;21;01mmatplotlib\u001b[39;00m\u001b[38;5;21;01m.\u001b[39;00m\u001b[38;5;21;01mpyplot\u001b[39;00m \u001b[38;5;28;01mas\u001b[39;00m \u001b[38;5;21;01mplt\u001b[39;00m\n\u001b[1;32m      9\u001b[0m \u001b[38;5;66;03m# Loading files\u001b[39;00m\n\u001b[0;32m---> 11\u001b[0m X_test_left \u001b[38;5;241m=\u001b[39m pickle\u001b[38;5;241m.\u001b[39mload(\u001b[38;5;28;43mopen\u001b[39;49m\u001b[43m(\u001b[49m\u001b[38;5;124;43m'\u001b[39;49m\u001b[38;5;124;43m/Volumes/Macintosh HD/Users/keeswagemans/Desktop/Thesis/iCub dataset/X_test_left.pkl\u001b[39;49m\u001b[38;5;124;43m'\u001b[39;49m\u001b[43m,\u001b[49m\u001b[43m \u001b[49m\u001b[38;5;124;43m'\u001b[39;49m\u001b[38;5;124;43mrb\u001b[39;49m\u001b[38;5;124;43m'\u001b[39;49m\u001b[43m)\u001b[49m)\n\u001b[1;32m     12\u001b[0m Y_test_left \u001b[38;5;241m=\u001b[39m pickle\u001b[38;5;241m.\u001b[39mload(\u001b[38;5;28mopen\u001b[39m(\u001b[38;5;124m'\u001b[39m\u001b[38;5;124m/Volumes/Macintosh HD/Users/keeswagemans/Desktop/Thesis/iCub dataset/Y_test_left.pkl\u001b[39m\u001b[38;5;124m'\u001b[39m, \u001b[38;5;124m'\u001b[39m\u001b[38;5;124mrb\u001b[39m\u001b[38;5;124m'\u001b[39m))\n\u001b[1;32m     13\u001b[0m \u001b[38;5;28mprint\u001b[39m(\u001b[38;5;28mlen\u001b[39m(X_test_left))\n",
      "\u001b[0;31mFileNotFoundError\u001b[0m: [Errno 2] No such file or directory: '/Volumes/Macintosh HD/Users/keeswagemans/Desktop/Thesis/iCub dataset/X_test_left.pkl'"
     ]
    }
   ],
   "source": [
    "# Loading libraries\n",
    "\n",
    "import pickle\n",
    "from lime import lime_image\n",
    "import tensorflow as tf\n",
    "from skimage.segmentation import mark_boundaries\n",
    "import matplotlib.pyplot as plt\n",
    "\n",
    "# Loading files\n",
    "\n",
    "X_test_left = pickle.load(open('X_test_left.pkl', 'rb'))\n",
    "Y_test_left = pickle.load(open('Y_test_left.pkl', 'rb'))\n",
    "\n",
    "\n",
    "# Loading model\n",
    "\n",
    "model_left = tf.keras.models.load_model('CNN_1_left')\n",
    "\n",
    "# Explainer\n",
    "\n",
    "explainer = lime_image.LimeImageExplainer()\n",
    "\n",
    "explanation = explainer.explain_instance(X_test_left[2732].astype('double'),\n",
    "                                         model_left.predict,\n",
    "                                         top_labels=5,\n",
    "                                         hide_color=0,\n",
    "                                         num_samples=1000)\n",
    "\n",
    "temp_1, mask_1 = explanation.get_image_and_mask(explanation.top_labels[0],\n",
    "                                                positive_only=True,\n",
    "                                                num_features=5,\n",
    "                                                hide_rest=True)\n",
    "temp_2, mask_2 = explanation.get_image_and_mask(explanation.top_labels[0],\n",
    "                                                positive_only=False,\n",
    "                                                num_features=10,\n",
    "                                                hide_rest=False)\n",
    "\n",
    "fig, (ax1, ax2) = plt.subplots(1, 2, figsize=(15,15))\n",
    "ax1.imshow(mark_boundaries(temp_1, mask_1).astype('uint8'))\n",
    "ax2.imshow(mark_boundaries(temp_2, mask_2).astype('uint8'))\n",
    "ax1.axis('off')\n",
    "ax2.axis('off')\n",
    "plt.show()\n"
   ]
  }
 ],
 "metadata": {
  "kernelspec": {
   "display_name": "Python 3 (ipykernel)",
   "language": "python",
   "name": "python3"
  },
  "language_info": {
   "codemirror_mode": {
    "name": "ipython",
    "version": 3
   },
   "file_extension": ".py",
   "mimetype": "text/x-python",
   "name": "python",
   "nbconvert_exporter": "python",
   "pygments_lexer": "ipython3",
   "version": "3.9.13"
  }
 },
 "nbformat": 4,
 "nbformat_minor": 5
}
